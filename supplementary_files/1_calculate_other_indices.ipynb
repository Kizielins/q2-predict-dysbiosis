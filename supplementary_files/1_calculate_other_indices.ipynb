{
 "cells": [
  {
   "cell_type": "markdown",
   "metadata": {},
   "source": [
    "## Running different indices"
   ]
  },
  {
   "cell_type": "code",
   "execution_count": null,
   "metadata": {},
   "outputs": [],
   "source": [
    "## Shannon entropy - on species and functions\n",
    "\n",
    "#biom convert -i <profile txt> -o profile.biom --table-type \"Table\" --to-hdf5\n",
    "#qiime tools import --input-path profile.biom --type FeatureTable[Frequency] --output-path profile.qza\n",
    "#qiime diversity alpha --i-table profile.qza --p-metric shannon --o-alpha-diversity profile_shannon.qza\n",
    "#qiime diversity alpha-group-significance --i-alpha-diversity profile_shannon.qza --m-metadata-file metadata.txt --o-visualization profile_shannon.qzv"
   ]
  },
  {
   "cell_type": "code",
   "execution_count": null,
   "metadata": {},
   "outputs": [],
   "source": [
    "## GMHI\n",
    "\n",
    "#biom convert -i <profile txt> -o profile.biom --table-type \"Table\" --to-hdf5\n",
    "#qiime tools import --input-path profile.biom --type FeatureTable[Frequency] --output-path profile.qza\n",
    "#qiime health-index gmhi-predict-viz --i-table profile.qza --m-metadata-file metadata.txt --o-gmhi-results profile_results --o-gmhi-plot profile_plot"
   ]
  },
  {
   "cell_type": "code",
   "execution_count": null,
   "metadata": {},
   "outputs": [],
   "source": [
    "## hiPCA\n",
    "\n",
    "# To calculate hiPCA scores, we modified the original MATLAB script by substituting inputs (test data) with our files and saved the output values."
   ]
  },
  {
   "cell_type": "code",
   "execution_count": null,
   "metadata": {},
   "outputs": [],
   "source": [
    "### A file with metadata and all index values is called \"metadata_and_index_values.txt\""
   ]
  }
 ],
 "metadata": {
  "language_info": {
   "name": "python"
  }
 },
 "nbformat": 4,
 "nbformat_minor": 2
}
