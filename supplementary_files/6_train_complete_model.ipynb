{
 "cells": [
  {
   "cell_type": "code",
   "execution_count": 1,
   "metadata": {},
   "outputs": [],
   "source": [
    "import pandas as pd \n",
    "from sklearn.ensemble import RandomForestClassifier\n",
    "from sklearn.model_selection import GroupKFold\n",
    "from sklearn.inspection import permutation_importance\n",
    "import numpy as np\n",
    "from sklearn.model_selection import cross_val_score, GridSearchCV\n",
    "from sklearn.metrics import roc_auc_score, accuracy_score, roc_curve\n",
    "import joblib"
   ]
  },
  {
   "cell_type": "code",
   "execution_count": 2,
   "metadata": {},
   "outputs": [
    {
     "name": "stdout",
     "output_type": "stream",
     "text": [
      "(4612, 6)\n",
      "(4598, 2)\n",
      "                GMHI_good  GMHI_bad  Frac_of_core_functions_among_all  \\\n",
      "MMPD37460080ST          0         4                          0.620370   \n",
      "MMPD56131850ST          1         0                          0.706897   \n",
      "MMPD19623701ST          1         1                          0.619403   \n",
      "MMPD91893113ST          1         3                          0.559524   \n",
      "MMPD45969642ST          1         1                          0.606667   \n",
      "\n",
      "                Frac_of_core_functions_found  Species_found_together  \\\n",
      "MMPD37460080ST                      0.396450                0.000000   \n",
      "MMPD56131850ST                      0.242604                0.414634   \n",
      "MMPD19623701ST                      0.491124                0.512195   \n",
      "MMPD91893113ST                      0.556213                0.243902   \n",
      "MMPD45969642ST                      0.538462                0.560976   \n",
      "\n",
      "                Contributions_per_species  category         cohort  \n",
      "MMPD37460080ST                  43.400000         1  BedarfJR_2017  \n",
      "MMPD56131850ST                  22.615385         1  BedarfJR_2017  \n",
      "MMPD19623701ST                  36.617647         1  BedarfJR_2017  \n",
      "MMPD91893113ST                  36.641026         1  BedarfJR_2017  \n",
      "MMPD45969642ST                  41.000000         1  BedarfJR_2017  \n",
      "(4582, 8)\n"
     ]
    }
   ],
   "source": [
    "params = pd.read_csv('Data/calculated_parameters_for_merged.txt',sep=\"\\t\", index_col=1).iloc[:,1:]\n",
    "print(params.shape)\n",
    "meta = pd.read_csv('Data/merged_metadata.txt', sep=\"\\t\", index_col=0)\n",
    "new_cat = []\n",
    "for a in list(meta['category']): ### put all diseases from one cohort into one bucket\n",
    "    if a == \"healthy\":\n",
    "        new_cat.append(1)\n",
    "    else:\n",
    "        new_cat.append(0)\n",
    "meta['category'] = new_cat\n",
    "print(meta.shape)\n",
    "\n",
    "merged = pd.merge(params, meta, left_index=True, right_index=True)\n",
    "\n",
    "print(merged.head())\n",
    "print(merged.shape)"
   ]
  },
  {
   "cell_type": "code",
   "execution_count": 7,
   "metadata": {},
   "outputs": [
    {
     "name": "stdout",
     "output_type": "stream",
     "text": [
      "Optimal Accuracy: 0.7824\n",
      "ROC AUC Score: 0.9220\n",
      "Optimal Accuracy Threshold: 0.3872\n",
      "Model saved to random_forest_model_with_gupta.pkl\n"
     ]
    }
   ],
   "source": [
    "### train model\n",
    "\n",
    "def run_random_forest_with_permutation_importance(df, target_col, cohort_col, n_estimators=100, cv_folds=5):\n",
    "    # Split the dataframe into features and target\n",
    "    X = df.drop(columns=[target_col, cohort_col])\n",
    "    y = df[target_col]\n",
    "    \n",
    "    # Define the random forest model\n",
    "    rf = RandomForestClassifier(n_estimators=n_estimators, random_state=42)\n",
    "\n",
    "    # Perform cross-validation to optimize the model using GridSearchCV (hyperparameter tuning)\n",
    "    param_grid = {'n_estimators': [100, 200, 300], 'max_depth': [10, 20, None]}\n",
    "    grid_search = GridSearchCV(rf, param_grid, cv=cv_folds, scoring='accuracy')\n",
    "    grid_search.fit(X, y)\n",
    "\n",
    "    # Get the best model from the grid search\n",
    "    best_rf = grid_search.best_estimator_\n",
    "    \n",
    "    # Fit the best model to the data\n",
    "    best_rf.fit(X, y)\n",
    "    \n",
    "    # Calculate accuracy and ROC AUC score\n",
    "    y_pred = best_rf.predict(X)\n",
    "    accuracy = accuracy_score(y, y_pred)\n",
    "    auc_score = roc_auc_score(y, best_rf.predict_proba(X)[:, 1])\n",
    "    \n",
    "    print(f\"Optimal Accuracy: {accuracy:.4f}\")\n",
    "    print(f\"ROC AUC Score: {auc_score:.4f}\")\n",
    "    \n",
    "    # Calculate the optimal accuracy threshold using ROC curve analysis\n",
    "    fpr, tpr, thresholds = roc_curve(y, best_rf.predict_proba(X)[:, 1])\n",
    "    optimal_idx = np.argmax(tpr - fpr)\n",
    "    optimal_threshold = thresholds[optimal_idx]\n",
    "    \n",
    "    print(f\"Optimal Accuracy Threshold: {optimal_threshold:.4f}\")\n",
    "    \n",
    "    # Save the trained model to a file\n",
    "    model_filename = \"q2_pd_model.pkl\"\n",
    "    joblib.dump(best_rf, model_filename)\n",
    "    print(f\"Model saved to {model_filename}\")\n",
    "\n",
    "    return best_rf, accuracy, auc_score, optimal_threshold\n",
    "\n",
    "# Example usage:\n",
    "# df is your dataframe, 'target' is the target column, 'cohort' is the cohort column\n",
    "model, accuracy, auc, threshold = run_random_forest_with_permutation_importance(merged, target_col='category', cohort_col='cohort')"
   ]
  },
  {
   "cell_type": "code",
   "execution_count": 10,
   "metadata": {},
   "outputs": [
    {
     "name": "stdout",
     "output_type": "stream",
     "text": [
      "Optimal Accuracy: 0.7643\n",
      "ROC AUC Score: 0.9176\n",
      "Optimal Accuracy Threshold: 0.3832\n",
      "Model saved to q2_pd_model_no_gmhi.pkl\n"
     ]
    }
   ],
   "source": [
    "### train a complete model without GMHI parameters\n",
    "\n",
    "\n",
    "def run_random_forest_with_permutation_importance(df, target_col, cohort_col, n_estimators=100, cv_folds=5):\n",
    "    # Split the dataframe into features and target\n",
    "    X = df.drop(columns=[target_col, cohort_col,'GMHI_good','GMHI_bad'])\n",
    "    y = df[target_col]\n",
    "    \n",
    "    # Define the random forest model\n",
    "    rf = RandomForestClassifier(n_estimators=n_estimators, random_state=42)\n",
    "\n",
    "    # Perform cross-validation to optimize the model using GridSearchCV (hyperparameter tuning)\n",
    "    param_grid = {'n_estimators': [100, 200, 300], 'max_depth': [10, 20, None]}\n",
    "    grid_search = GridSearchCV(rf, param_grid, cv=cv_folds, scoring='accuracy')\n",
    "    grid_search.fit(X, y)\n",
    "\n",
    "    # Get the best model from the grid search\n",
    "    best_rf = grid_search.best_estimator_\n",
    "    \n",
    "    # Fit the best model to the data\n",
    "    best_rf.fit(X, y)\n",
    "    \n",
    "    # Calculate accuracy and ROC AUC score\n",
    "    y_pred = best_rf.predict(X)\n",
    "    accuracy = accuracy_score(y, y_pred)\n",
    "    auc_score = roc_auc_score(y, best_rf.predict_proba(X)[:, 1])\n",
    "    \n",
    "    print(f\"Optimal Accuracy: {accuracy:.4f}\")\n",
    "    print(f\"ROC AUC Score: {auc_score:.4f}\")\n",
    "    \n",
    "    # Calculate the optimal accuracy threshold using ROC curve analysis\n",
    "    fpr, tpr, thresholds = roc_curve(y, best_rf.predict_proba(X)[:, 1])\n",
    "    optimal_idx = np.argmax(tpr - fpr)\n",
    "    optimal_threshold = thresholds[optimal_idx]\n",
    "    \n",
    "    print(f\"Optimal Accuracy Threshold: {optimal_threshold:.4f}\")\n",
    "    \n",
    "    # Save the trained model to a file\n",
    "    model_filename = \"q2_pd_model_no_gmhi.pkl\"\n",
    "    joblib.dump(best_rf, model_filename)\n",
    "    print(f\"Model saved to {model_filename}\")\n",
    "\n",
    "    return best_rf, accuracy, auc_score, optimal_threshold\n",
    "\n",
    "# Example usage:\n",
    "# df is your dataframe, 'target' is the target column, 'cohort' is the cohort column\n",
    "model, accuracy, auc, threshold = run_random_forest_with_permutation_importance(merged, target_col='category', cohort_col='cohort')"
   ]
  },
  {
   "cell_type": "code",
   "execution_count": null,
   "metadata": {},
   "outputs": [],
   "source": []
  }
 ],
 "metadata": {
  "kernelspec": {
   "display_name": "Python 3",
   "language": "python",
   "name": "python3"
  },
  "language_info": {
   "codemirror_mode": {
    "name": "ipython",
    "version": 3
   },
   "file_extension": ".py",
   "mimetype": "text/x-python",
   "name": "python",
   "nbconvert_exporter": "python",
   "pygments_lexer": "ipython3",
   "version": "3.11.9"
  }
 },
 "nbformat": 4,
 "nbformat_minor": 2
}
