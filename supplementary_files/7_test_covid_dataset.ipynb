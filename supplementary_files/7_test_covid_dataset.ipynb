{
 "cells": [
  {
   "cell_type": "code",
   "execution_count": 1,
   "metadata": {},
   "outputs": [],
   "source": [
    "import pandas as pd \n",
    "from sklearn.ensemble import RandomForestClassifier\n",
    "from sklearn.metrics import accuracy_score, roc_auc_score\n",
    "from sklearn.model_selection import GroupKFold\n",
    "from sklearn.inspection import permutation_importance\n",
    "import numpy as np\n",
    "import pickle\n",
    "import joblib\n",
    "import matplotlib.pyplot as plt\n",
    "import seaborn as sns"
   ]
  },
  {
   "cell_type": "code",
   "execution_count": 2,
   "metadata": {},
   "outputs": [],
   "source": [
    "model = joblib.load(\"q2_pd_model.pkl\")\n",
    "model_no_gmhi = joblib.load(\"q2_pd_model_no_gmhi.pkl\")"
   ]
  },
  {
   "cell_type": "code",
   "execution_count": 3,
   "metadata": {},
   "outputs": [
    {
     "name": "stdout",
     "output_type": "stream",
     "text": [
      "Index(['Sample', 'Gupta_good', 'Gupta_bad', 'Frac_of_core_functions_among_all',\n",
      "       'Frac_of_core_functions_found', 'Species_found_together',\n",
      "       'Contributions_per_species'],\n",
      "      dtype='object')\n",
      "              Sample  Gupta_good  Gupta_bad  Frac_of_core_functions_among_all  \\\n",
      "0   100_24122020_S49           0          1                          0.613333   \n",
      "1   100_29122020_S50           0          1                          0.666667   \n",
      "2  101k_02122021_S22           1          0                          0.894737   \n",
      "3  105k_05122021_S24           2          1                          0.958333   \n",
      "4   108K_08122021_S3           1          2                          0.878571   \n",
      "\n",
      "   Frac_of_core_functions_found  Species_found_together  \\\n",
      "0                      0.544379                0.000000   \n",
      "1                      0.142012                0.000000   \n",
      "2                      0.100592                0.146341   \n",
      "3                      0.272189                0.146341   \n",
      "4                      0.727811                0.048780   \n",
      "\n",
      "   Contributions_per_species  \n",
      "0                        4.0  \n",
      "1                        1.0  \n",
      "2                        3.0  \n",
      "3                        4.0  \n",
      "4                        7.2  \n"
     ]
    }
   ],
   "source": [
    "shallow = pd.read_csv(\"Data/calculated_parameters_for_shallow_covid.txt\", sep=\"\\t\", usecols = [1,2,3,4,5,6,7])\n",
    "print(shallow.columns)\n",
    "print(shallow.head())"
   ]
  },
  {
   "cell_type": "code",
   "execution_count": 4,
   "metadata": {},
   "outputs": [
    {
     "name": "stdout",
     "output_type": "stream",
     "text": [
      "         Q2PD             Sample\n",
      "0    0.710126   100_24122020_S49\n",
      "1    0.815929   100_29122020_S50\n",
      "2    0.623837  101k_02122021_S22\n",
      "3    0.532347  105k_05122021_S24\n",
      "4    0.679009   108K_08122021_S3\n",
      "..        ...                ...\n",
      "331  0.637704   K48_30092021_S42\n",
      "332  0.729437    K49_01102021_S7\n",
      "333  0.728877   K49_29092021_S13\n",
      "334  0.658785   K50_28092021_S41\n",
      "335  0.653340    K6_17092021_S39\n",
      "\n",
      "[336 rows x 2 columns]\n"
     ]
    }
   ],
   "source": [
    "def make_predictions_with_model(loaded_model, input_df, sample_name_col):\n",
    "    # Assume the target column was dropped earlier, so only features are present in input_df\n",
    "    # Sample names are stored in 'sample_name_col'\n",
    "    \n",
    "    # Make predictions using the loaded model\n",
    "    # For classification problems, we often use 'predict_proba' for probabilities (scores)\n",
    "    prediction_scores = loaded_model.predict_proba(input_df)\n",
    "\n",
    "    # Create a DataFrame with the scores and sample names\n",
    "    scores_df = pd.DataFrame(prediction_scores, columns=['Q2PD', 'Class_1_Score'])\n",
    "\n",
    "    return scores_df['Q2PD'].to_frame()\n",
    "\n",
    "# Example usage:\n",
    "# loaded_model is the Random Forest model you've loaded earlier\n",
    "# input_df is your dataframe with features for each sample, and 'sample_name' contains sample names\n",
    "scores_df = make_predictions_with_model(model, shallow.iloc[:,1:], sample_name_col='Sample')\n",
    "scores_df['Sample'] = list(shallow['Sample'])\n",
    "print(scores_df)"
   ]
  },
  {
   "cell_type": "code",
   "execution_count": 5,
   "metadata": {},
   "outputs": [
    {
     "name": "stdout",
     "output_type": "stream",
     "text": [
      "(122, 3)\n"
     ]
    },
    {
     "data": {
      "image/png": "[encoded data removed]",
      "text/plain": [
       "<Figure size 800x300 with 1 Axes>"
      ]
     },
     "metadata": {},
     "output_type": "display_data"
    }
   ],
   "source": [
    "meta= pd.read_csv(\"Data/metadata_covid_shallow.txt\", sep=\"\\t\", usecols=[0,1])\n",
    "\n",
    "merged_df = scores_df.merge(meta, left_on='Sample', right_on='Sample', how='inner')\n",
    "print(merged_df.shape)\n",
    "merged_df = merged_df.dropna()\n",
    "\n",
    "\n",
    "scores_pred_df = pd.DataFrame()\n",
    "scores_pred_df['SampleID'] = list(merged_df['Sample'])\n",
    "scores_pred_df['Score'] = list(merged_df['Q2PD'])\n",
    "scores_pred_df['Category'] = list(merged_df['Diagnosis'])\n",
    "\n",
    "scores_pred_df['Category'] = scores_pred_df['Category'].replace(\"Case_first_ICU\",\"1_ICU\")\n",
    "scores_pred_df['Category'] = scores_pred_df['Category'].replace(\"Case_last_ICU\",\"2_ICU\")\n",
    "scores_pred_df['Category'] = scores_pred_df['Category'].replace(\"Case_first_noICU\",\"1_noICU\")\n",
    "scores_pred_df['Category'] = scores_pred_df['Category'].replace(\"Case_last_noICU\",\"2_noICU\")\n",
    "scores_pred_df['Category'] = scores_pred_df['Category'].replace(\"Control_first\",\"1_control\")\n",
    "scores_pred_df['Category'] = scores_pred_df['Category'].replace(\"Control_last\",\"2_control\")\n",
    "\n",
    "scores_pred_df['Category'] = pd.Categorical(scores_pred_df['Category'], [\"1_control\", \"1_noICU\", \"1_ICU\",\"2_control\", \"2_noICU\", \"2_ICU\"])\n",
    "scores_pred_df = scores_pred_df.sort_values(by=\"Category\")\n",
    "\n",
    "my_pal = {\"1_control\":sns.color_palette(\"Set2\")[4], \"2_control\":sns.color_palette(\"Dark2\")[4], \"1_noICU\":sns.color_palette(\"Set3\")[4],\"2_noICU\":sns.color_palette(\"Set1\")[1], \"1_ICU\":sns.color_palette(\"Paired\")[4], \"2_ICU\":sns.color_palette(\"tab20\")[6]}\n",
    "\n",
    "plt.figure(figsize=(8,3))\n",
    "ax = sns.boxplot(data=scores_pred_df, x='Category', y=\"Score\", palette = my_pal, fliersize=0)\n",
    "#add_stat_annotation(ax, data=scores_pred_df, x=\"Category\", y=\"Score\", box_pairs=[((\"1_ICU\"), (\"2_ICU\")),((\"2_noICU\"), (\"2_ICU\")),((\"1_control\"), (\"2_ICU\"))],test='t-test_ind', text_format='star', loc='inside',verbose=0)\n",
    "\n",
    "plt.xticks(rotation=45)\n",
    "plt.xlabel(\"\")\n",
    "plt.show()"
   ]
  },
  {
   "cell_type": "code",
   "execution_count": 6,
   "metadata": {},
   "outputs": [
    {
     "name": "stdout",
     "output_type": "stream",
     "text": [
      "Index(['Sample', 'Gupta_good', 'Gupta_bad', 'Frac_of_core_functions_among_all',\n",
      "       'Frac_of_core_functions_found', 'Species_found_together',\n",
      "       'Contributions_per_species'],\n",
      "      dtype='object')\n",
      "     Sample  Gupta_good  Gupta_bad  Frac_of_core_functions_among_all  \\\n",
      "0   128_S58           0          1                          0.489231   \n",
      "1   131_S59           0          0                          0.844828   \n",
      "2    34_S17           1          4                          0.814208   \n",
      "3    35_S18           1          3                          0.867021   \n",
      "4  670_S246           2          2                          0.814433   \n",
      "\n",
      "   Frac_of_core_functions_found  Species_found_together  \\\n",
      "0                      0.940828                0.000000   \n",
      "1                      0.579882                0.000000   \n",
      "2                      0.881657                0.268293   \n",
      "3                      0.964497                0.268293   \n",
      "4                      0.934911                0.731707   \n",
      "\n",
      "   Contributions_per_species  \n",
      "0                 120.076923  \n",
      "1                  57.181818  \n",
      "2                  38.933333  \n",
      "3                  42.375000  \n",
      "4                  42.057971  \n"
     ]
    }
   ],
   "source": [
    "deep = pd.read_csv(\"Data/calculated_parameters_for_deep_covid.txt\", sep=\"\\t\", usecols = [1,2,3,4,5,6,7])\n",
    "print(deep.columns)\n",
    "print(deep.head())"
   ]
  },
  {
   "cell_type": "code",
   "execution_count": 7,
   "metadata": {},
   "outputs": [
    {
     "name": "stdout",
     "output_type": "stream",
     "text": [
      "        Q2PD    Sample\n",
      "0   0.645782   128_S58\n",
      "1   0.660912   131_S59\n",
      "2   0.651063    34_S17\n",
      "3   0.640722    35_S18\n",
      "4   0.501730  670_S246\n",
      "5   0.566838  681_S255\n",
      "6   0.483532  691_S264\n",
      "7   0.546254  700_S270\n",
      "8   0.591662  701_S271\n",
      "9   0.592658  740_S295\n",
      "10  0.627630  742_S296\n",
      "11  0.572036  842_S348\n",
      "12  0.682796  890_S376\n"
     ]
    }
   ],
   "source": [
    "scores_df = make_predictions_with_model(model, deep.iloc[:,1:], sample_name_col='Sample')\n",
    "scores_df['Sample'] = list(deep['Sample'])\n",
    "print(scores_df)"
   ]
  },
  {
   "cell_type": "code",
   "execution_count": 8,
   "metadata": {},
   "outputs": [
    {
     "name": "stdout",
     "output_type": "stream",
     "text": [
      "       Q2PD    Sample  Diagnosis\n",
      "0  0.645782   128_S58  First_ICU\n",
      "1  0.660912   131_S59   Last_ICU\n",
      "2  0.651063    34_S17  First_ICU\n",
      "3  0.640722    35_S18   Last_ICU\n",
      "4  0.501730  670_S246  First_ICU\n"
     ]
    },
    {
     "data": {
      "image/png": "[encoded data removed]",
      "text/plain": [
       "<Figure size 350x300 with 1 Axes>"
      ]
     },
     "metadata": {},
     "output_type": "display_data"
    }
   ],
   "source": [
    "meta= pd.read_csv(\"Data/metadata_covid_deep.txt\", sep=\"\\t\", usecols=[0,1])\n",
    "\n",
    "merged_df = scores_df.merge(meta, left_on='Sample', right_on='Sample', how='inner')\n",
    "print(merged_df.head())\n",
    "merged_df = merged_df.dropna()\n",
    "merged_df = merged_df.replace(['Healthy'], ['Control'])\n",
    "merged_df = merged_df.replace(['First_ICU'], ['Case_first_ICU'])\n",
    "merged_df = merged_df.replace(['Last_ICU'], ['Case_last_ICU'])\n",
    "\n",
    "scores_pred_df = pd.DataFrame()\n",
    "scores_pred_df['SampleID'] = list(merged_df['Sample'])\n",
    "scores_pred_df['Score'] = list(merged_df['Q2PD'])\n",
    "scores_pred_df['Category'] = list(merged_df['Diagnosis'])\n",
    "\n",
    "scores_pred_df['Category'] = scores_pred_df['Category'].replace(\"Case_first_ICU\",\"1_ICU\")\n",
    "scores_pred_df['Category'] = scores_pred_df['Category'].replace(\"Case_last_ICU\",\"2_ICU\")\n",
    "scores_pred_df['Category'] = scores_pred_df['Category'].replace(\"Case_first_noICU\",\"1_noICU\")\n",
    "scores_pred_df['Category'] = scores_pred_df['Category'].replace(\"Case_last_noICU\",\"2_noICU\")\n",
    "\n",
    "\n",
    "scores_pred_df['Category'] = pd.Categorical(scores_pred_df['Category'], [\"Control\", \"1_ICU\", \"2_ICU\"])\n",
    "scores_pred_df = scores_pred_df.sort_values(by=\"Category\")\n",
    "\n",
    "my_pal = {\"Control\":sns.color_palette(\"Set2\")[4], \"2_control\":sns.color_palette(\"Dark2\")[4], \"1_noICU\":sns.color_palette(\"Set3\")[4],\"2_noICU\":sns.color_palette(\"Set1\")[1], \"1_ICU\":sns.color_palette(\"Paired\")[4], \"2_ICU\":sns.color_palette(\"tab20\")[6]}\n",
    "\n",
    "plt.figure(figsize=(3.5,3))\n",
    "ax = sns.boxplot(data=scores_pred_df, x='Category', y=\"Score\", palette = my_pal, fliersize=0)\n",
    "#add_stat_annotation(ax, data=scores_pred_df, x=\"Category\", y=\"Score\", box_pairs=[((\"1_ICU\"), (\"2_ICU\")),((\"2_noICU\"), (\"2_ICU\")),((\"1_control\"), (\"2_ICU\"))],test='t-test_ind', text_format='star', loc='inside',verbose=0)\n",
    "\n",
    "plt.xticks(rotation=45)\n",
    "plt.show()"
   ]
  },
  {
   "cell_type": "code",
   "execution_count": 55,
   "metadata": {},
   "outputs": [
    {
     "name": "stdout",
     "output_type": "stream",
     "text": [
      "Permutation-based Feature Importances:\n",
      "                            Feature  Importance\n",
      "4            Species_found_together    0.153846\n",
      "2  Frac_of_core_functions_among_all    0.015385\n",
      "5         Contributions_per_species    0.007692\n",
      "3      Frac_of_core_functions_found    0.000000\n",
      "0                        Gupta_good   -0.023077\n",
      "1                         Gupta_bad   -0.161538\n"
     ]
    }
   ],
   "source": [
    "import pandas as pd\n",
    "import seaborn as sns\n",
    "import matplotlib.pyplot as plt\n",
    "from sklearn.inspection import permutation_importance\n",
    "from sklearn.ensemble import RandomForestClassifier\n",
    "from sklearn.metrics import accuracy_score, roc_auc_score\n",
    "\n",
    "# Load your deep dataset\n",
    "deep = pd.read_csv(\"Data/calculated_parameters_for_deep_covid.txt\", sep=\"\\t\", usecols=[1, 2, 3, 4, 5, 6, 7])\n",
    "\n",
    "\n",
    "# Load metadata and merge\n",
    "meta = pd.read_csv(\"Data/metadata_covid_deep.txt\", sep=\"\\t\", usecols=[0, 1])\n",
    "merged_df = deep.merge(meta, left_on='Sample', right_on='Sample', how='inner').drop('Sample', axis=1)\n",
    "\n",
    "# Clean the merged dataframe\n",
    "merged_df = merged_df.dropna()\n",
    "merged_df = merged_df.replace(['Healthy'], 1)\n",
    "merged_df = merged_df.replace(['First_ICU'], 0)\n",
    "merged_df = merged_df.replace(['Last_ICU'], 0)\n",
    "\n",
    "\n",
    "# Set up the color palette\n",
    "my_pal = {\n",
    "    \"Control\": sns.color_palette(\"Set2\")[4], \n",
    "    \"2_control\": sns.color_palette(\"Dark2\")[4], \n",
    "    \"1_noICU\": sns.color_palette(\"Set3\")[4],\n",
    "    \"2_noICU\": sns.color_palette(\"Set1\")[1], \n",
    "    \"1_ICU\": sns.color_palette(\"Paired\")[4], \n",
    "    \"2_ICU\": sns.color_palette(\"tab20\")[6]\n",
    "}\n",
    "\n",
    "\n",
    "# Calculate and print permutation feature importance\n",
    "def calculate_permutation_importance(model, input_df, target_col):\n",
    "    # Prepare features and target variable\n",
    "    X = input_df.drop(columns=[target_col])\n",
    "    y = input_df[target_col]\n",
    "\n",
    "    # Calculate permutation importance\n",
    "    perm_importance = permutation_importance(model, X, y, n_repeats=10, random_state=42)\n",
    "\n",
    "    # Create a DataFrame for permutation importance results\n",
    "    importance_df = pd.DataFrame({\n",
    "        'Feature': X.columns,\n",
    "        'Importance': perm_importance.importances_mean\n",
    "    }).sort_values(by='Importance', ascending=False)\n",
    "\n",
    "    print(\"Permutation-based Feature Importances:\")\n",
    "    print(importance_df)\n",
    "\n",
    "# Call the function to calculate and print permutation feature importance\n",
    "calculate_permutation_importance(model, merged_df, 'Diagnosis')"
   ]
  },
  {
   "cell_type": "code",
   "execution_count": 63,
   "metadata": {},
   "outputs": [
    {
     "name": "stdout",
     "output_type": "stream",
     "text": [
      "       Q2PD    Sample  Diagnosis\n",
      "0  0.565458   128_S58  First_ICU\n",
      "1  0.521480   131_S59   Last_ICU\n",
      "2  0.691455    34_S17  First_ICU\n",
      "3  0.622356    35_S18   Last_ICU\n",
      "4  0.510694  670_S246  First_ICU\n"
     ]
    },
    {
     "data": {
      "image/png": "[encoded data removed]",
      "text/plain": [
       "<Figure size 350x300 with 1 Axes>"
      ]
     },
     "metadata": {},
     "output_type": "display_data"
    }
   ],
   "source": [
    "### make predictions with a model without GMHI parameters\n",
    "\n",
    "deep = pd.read_csv(\"Data/calculated_parameters_for_deep_covid.txt\", sep=\"\\t\", usecols = [1,4,5,6,7])\n",
    "scores_df = make_predictions_with_model(model_no_gmhi, deep.iloc[:,1:], sample_name_col='Sample')\n",
    "scores_df['Sample'] = list(deep['Sample'])\n",
    "meta= pd.read_csv(\"Data/metadata_covid_deep.txt\", sep=\"\\t\", usecols=[0,1])\n",
    "\n",
    "merged_df = scores_df.merge(meta, left_on='Sample', right_on='Sample', how='inner')\n",
    "print(merged_df.head())\n",
    "merged_df = merged_df.dropna()\n",
    "merged_df = merged_df.replace(['Healthy'], ['Control'])\n",
    "merged_df = merged_df.replace(['First_ICU'], ['Case_first_ICU'])\n",
    "merged_df = merged_df.replace(['Last_ICU'], ['Case_last_ICU'])\n",
    "\n",
    "scores_pred_df = pd.DataFrame()\n",
    "scores_pred_df['SampleID'] = list(merged_df['Sample'])\n",
    "scores_pred_df['Score'] = list(merged_df['Q2PD'])\n",
    "scores_pred_df['Category'] = list(merged_df['Diagnosis'])\n",
    "\n",
    "scores_pred_df['Category'] = scores_pred_df['Category'].replace(\"Case_first_ICU\",\"1_ICU\")\n",
    "scores_pred_df['Category'] = scores_pred_df['Category'].replace(\"Case_last_ICU\",\"2_ICU\")\n",
    "scores_pred_df['Category'] = scores_pred_df['Category'].replace(\"Case_first_noICU\",\"1_noICU\")\n",
    "scores_pred_df['Category'] = scores_pred_df['Category'].replace(\"Case_last_noICU\",\"2_noICU\")\n",
    "\n",
    "\n",
    "scores_pred_df['Category'] = pd.Categorical(scores_pred_df['Category'], [\"Control\", \"1_ICU\", \"2_ICU\"])\n",
    "scores_pred_df = scores_pred_df.sort_values(by=\"Category\")\n",
    "\n",
    "my_pal = {\"Control\":sns.color_palette(\"Set2\")[4], \"2_control\":sns.color_palette(\"Dark2\")[4], \"1_noICU\":sns.color_palette(\"Set3\")[4],\"2_noICU\":sns.color_palette(\"Set1\")[1], \"1_ICU\":sns.color_palette(\"Paired\")[4], \"2_ICU\":sns.color_palette(\"tab20\")[6]}\n",
    "\n",
    "plt.figure(figsize=(3.5,3))\n",
    "ax = sns.boxplot(data=scores_pred_df, x='Category', y=\"Score\", palette = my_pal, fliersize=0)\n",
    "#add_stat_annotation(ax, data=scores_pred_df, x=\"Category\", y=\"Score\", box_pairs=[((\"1_ICU\"), (\"2_ICU\")),((\"2_noICU\"), (\"2_ICU\")),((\"1_control\"), (\"2_ICU\"))],test='t-test_ind', text_format='star', loc='inside',verbose=0)\n",
    "\n",
    "plt.xticks(rotation=45)\n",
    "plt.show()"
   ]
  },
  {
   "cell_type": "code",
   "execution_count": 67,
   "metadata": {},
   "outputs": [
    {
     "data": {
      "image/png": "[encoded data removed]",
      "text/plain": [
       "<Figure size 350x300 with 1 Axes>"
      ]
     },
     "metadata": {},
     "output_type": "display_data"
    }
   ],
   "source": [
    "### gmhi\n",
    "\n",
    "data = pd.read_csv('Data/covid_gmhi_scores.txt', sep=\"\\t\")\n",
    "data.columns = ['Diagnosis','GMHI']\n",
    "\n",
    "scores_pred_df = pd.DataFrame()\n",
    "scores_pred_df['Score'] = list(data['GMHI'])\n",
    "scores_pred_df['Category'] = list(data['Diagnosis'])\n",
    "\n",
    "scores_pred_df['Category'] = scores_pred_df['Category'].replace(\"Case_first_ICU\",\"1_ICU\")\n",
    "scores_pred_df['Category'] = scores_pred_df['Category'].replace(\"Case_last_ICU\",\"2_ICU\")\n",
    "scores_pred_df['Category'] = scores_pred_df['Category'].replace(\"Case_first_noICU\",\"1_noICU\")\n",
    "scores_pred_df['Category'] = scores_pred_df['Category'].replace(\"Case_last_noICU\",\"2_noICU\")\n",
    "\n",
    "\n",
    "scores_pred_df['Category'] = pd.Categorical(scores_pred_df['Category'], [\"Control\", \"1_ICU\", \"2_ICU\"])\n",
    "scores_pred_df = scores_pred_df.sort_values(by=\"Category\")\n",
    "\n",
    "my_pal = {\"Control\":sns.color_palette(\"Set2\")[4], \"2_control\":sns.color_palette(\"Dark2\")[4], \"1_noICU\":sns.color_palette(\"Set3\")[4],\"2_noICU\":sns.color_palette(\"Set1\")[1], \"1_ICU\":sns.color_palette(\"Paired\")[4], \"2_ICU\":sns.color_palette(\"tab20\")[6]}\n",
    "\n",
    "plt.figure(figsize=(3.5,3))\n",
    "ax = sns.boxplot(data=scores_pred_df, x='Category', y=\"Score\", palette = my_pal)\n",
    "#add_stat_annotation(ax, data=scores_pred_df, x=\"Category\", y=\"Score\", box_pairs=[((\"1_ICU\"), (\"2_ICU\")),((\"2_noICU\"), (\"2_ICU\")),((\"1_control\"), (\"2_ICU\"))],test='t-test_ind', text_format='star', loc='inside',verbose=0)\n",
    "\n",
    "plt.xticks(rotation=45)\n",
    "plt.ylabel(\"GMHI\")\n",
    "plt.xlabel(\"\")\n",
    "plt.show()"
   ]
  },
  {
   "cell_type": "code",
   "execution_count": 68,
   "metadata": {},
   "outputs": [
    {
     "data": {
      "image/png": "[encoded data removed]",
      "text/plain": [
       "<Figure size 350x300 with 1 Axes>"
      ]
     },
     "metadata": {},
     "output_type": "display_data"
    }
   ],
   "source": [
    "### hipca\n",
    "\n",
    "data = pd.read_csv('Data/covid_hipca_scores.txt', sep=\"\\t\")\n",
    "data.columns = ['hiPCA','Diagnosis']\n",
    "\n",
    "scores_pred_df = pd.DataFrame()\n",
    "scores_pred_df['Score'] = list(data['hiPCA'])\n",
    "scores_pred_df['Category'] = list(data['Diagnosis'])\n",
    "\n",
    "scores_pred_df['Category'] = scores_pred_df['Category'].replace(\"Case_first_ICU\",\"1_ICU\")\n",
    "scores_pred_df['Category'] = scores_pred_df['Category'].replace(\"Case_last_ICU\",\"2_ICU\")\n",
    "scores_pred_df['Category'] = scores_pred_df['Category'].replace(\"Case_first_noICU\",\"1_noICU\")\n",
    "scores_pred_df['Category'] = scores_pred_df['Category'].replace(\"Case_last_noICU\",\"2_noICU\")\n",
    "\n",
    "\n",
    "scores_pred_df['Category'] = pd.Categorical(scores_pred_df['Category'], [\"Control\", \"1_ICU\", \"2_ICU\"])\n",
    "scores_pred_df = scores_pred_df.sort_values(by=\"Category\")\n",
    "\n",
    "my_pal = {\"Control\":sns.color_palette(\"Set2\")[4], \"2_control\":sns.color_palette(\"Dark2\")[4], \"1_noICU\":sns.color_palette(\"Set3\")[4],\"2_noICU\":sns.color_palette(\"Set1\")[1], \"1_ICU\":sns.color_palette(\"Paired\")[4], \"2_ICU\":sns.color_palette(\"tab20\")[6]}\n",
    "\n",
    "plt.figure(figsize=(3.5,3))\n",
    "ax = sns.boxplot(data=scores_pred_df, x='Category', y=\"Score\", palette = my_pal)\n",
    "\n",
    "plt.xticks(rotation=45)\n",
    "plt.xlabel(\"\")\n",
    "plt.ylabel(\"hiPCA\")\n",
    "plt.show()"
   ]
  },
  {
   "cell_type": "code",
   "execution_count": null,
   "metadata": {},
   "outputs": [],
   "source": []
  }
 ],
 "metadata": {
  "kernelspec": {
   "display_name": "Python 3",
   "language": "python",
   "name": "python3"
  },
  "language_info": {
   "codemirror_mode": {
    "name": "ipython",
    "version": 3
   },
   "file_extension": ".py",
   "mimetype": "text/x-python",
   "name": "python",
   "nbconvert_exporter": "python",
   "pygments_lexer": "ipython3",
   "version": "3.11.9"
  }
 },
 "nbformat": 4,
 "nbformat_minor": 2
}
